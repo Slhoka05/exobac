{
 "cells": [
  {
   "cell_type": "markdown",
   "metadata": {},
   "source": [
    "# Baccalaureas generale Polynesie"
   ]
  },
  {
   "cell_type": "markdown",
   "metadata": {},
   "source": [
    "## exercice 1"
   ]
  },
  {
   "cell_type": "markdown",
   "metadata": {},
   "source": [
    "1a"
   ]
  },
  {
   "cell_type": "markdown",
   "metadata": {},
   "source": [
    "La fonction est récursive car un cherche une liste dans une liste avec :\n",
    "\"a\"+ A()."
   ]
  },
  {
   "cell_type": "markdown",
   "metadata": {},
   "source": [
    "1b"
   ]
  },
  {
   "cell_type": "markdown",
   "metadata": {},
   "source": [
    "Si la fonction choice retourne un nombre de fois superieur à la limite de profondeur de la recursivite qui est de 1000 par deffaut ,dant ce qu'a une erreur d'execution se produit."
   ]
  },
  {
   "cell_type": "code",
   "execution_count": null,
   "metadata": {},
   "outputs": [],
   "source": [
    "import sys\n",
    "sys.set recursion  limite(10**6)\n",
    " # ce programme permet d'augmenter la limite de la recursion "
   ]
  },
  {
   "cell_type": "markdown",
   "metadata": {},
   "source": [
    "2a"
   ]
  },
  {
   "cell_type": "code",
   "execution_count": 11,
   "metadata": {},
   "outputs": [],
   "source": [
    "from random import choice\n",
    "def A(n):\n",
    "    if n<=0 or choice ([True, False]) :\n",
    "        return \"a\"\n",
    "    else:\n",
    "        return \"a\" + A(n-1) + \"a\"\n"
   ]
  },
  {
   "cell_type": "code",
   "execution_count": 9,
   "metadata": {},
   "outputs": [],
   "source": [
    "def raccourcir(chaine:str)->str:\n",
    "    \"\"\"fonction  qui retourne une chaine de caractere\"\"\"\n",
    "    assert len(chaine)>=2,\"chaine trop courte\"\n",
    "    return chaine[1:len(chaine)-1]"
   ]
  },
  {
   "cell_type": "code",
   "execution_count": 10,
   "metadata": {},
   "outputs": [
    {
     "data": {
      "text/plain": [
       "'bCD'"
      ]
     },
     "execution_count": 10,
     "metadata": {},
     "output_type": "execute_result"
    }
   ],
   "source": [
    "raccourcir(\"abCDE\")"
   ]
  },
  {
   "cell_type": "markdown",
   "metadata": {},
   "source": [
    "2b"
   ]
  },
  {
   "cell_type": "markdown",
   "metadata": {},
   "source": [
    "un entier positif finira toujours avant 50 car 50 est la limite possible si tout est faut mais vue qu'il y a true et false il n'y auras jamais 50 \"a\""
   ]
  },
  {
   "cell_type": "markdown",
   "metadata": {},
   "source": [
    "3"
   ]
  },
  {
   "cell_type": "markdown",
   "metadata": {},
   "source": [
    "B0 renverais n-1\n",
    "B1 renverais n-1 ou (n-1)x3\n",
    "B2 renverais n-1, (n-1)x3 ou (n-1)x5"
   ]
  },
  {
   "cell_type": "markdown",
   "metadata": {},
   "source": [
    "4a"
   ]
  },
  {
   "cell_type": "code",
   "execution_count": null,
   "metadata": {},
   "outputs": [],
   "source": [
    "def regleA(chaine): \n",
    "n = len(chaine) \n",
    "if n >= 2:  \n",
    " return chaine[0] == \"a\" and chaine[n-1] == \"a\" and  regleA(True) \n",
    "else: \n",
    " return chaine == (False)\n",
    "def raccourcir(chaine:str)->str:\n",
    "    \"\"\"fonction  qui retourne une chaine de caractere\"\"\"\n",
    "    assert len(chaine)>=2,\"chaine trop courte\"\n",
    "    return chaine[1:len(chaine)-1]"
   ]
  }
 ],
 "metadata": {
  "kernelspec": {
   "display_name": "Python 3",
   "language": "python",
   "name": "python3"
  },
  "language_info": {
   "codemirror_mode": {
    "name": "ipython",
    "version": 3
   },
   "file_extension": ".py",
   "mimetype": "text/x-python",
   "name": "python",
   "nbconvert_exporter": "python",
   "pygments_lexer": "ipython3",
   "version": "3.8.3"
  }
 },
 "nbformat": 4,
 "nbformat_minor": 4
}
